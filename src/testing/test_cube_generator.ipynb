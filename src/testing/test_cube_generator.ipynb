{
 "cells": [
  {
   "cell_type": "code",
   "execution_count": 5,
   "metadata": {},
   "outputs": [
    {
     "name": "stdout",
     "output_type": "stream",
     "text": [
      "/Users/moritz/Desktop/STLGenerator-POC-CURLY/src/testing/models/cube_predict.h5\n"
     ]
    }
   ],
   "source": [
    "# import keras model \n",
    "from keras.models import load_model\n",
    "import numpy as np\n",
    "import cv2\n",
    "import os\n",
    "\n",
    "\n",
    "path_to_model = os.path.join(os.getcwd(), \"models\", 'cube_predict.h5')\n",
    "print(path_to_model)"
   ]
  },
  {
   "cell_type": "code",
   "execution_count": 6,
   "metadata": {},
   "outputs": [],
   "source": [
    "# load model\n",
    "model = load_model(path_to_model)"
   ]
  },
  {
   "cell_type": "code",
   "execution_count": 8,
   "metadata": {},
   "outputs": [],
   "source": [
    "\n",
    "from transformers import GPT2Tokenizer\n",
    "from tensorflow.keras.preprocessing.sequence import pad_sequences\n",
    "\n",
    "\n",
    "\n",
    "def tokenize_prompt(prompt, tokenizer):\n",
    "    \"\"\"\n",
    "    This function tokenizes the prompt using the provided tokenizer.\n",
    "\n",
    "    Args:\n",
    "        prompt: str\n",
    "        tokenizer: GPT2Tokenizer\n",
    "\n",
    "    Returns:\n",
    "        token_ids: List[int]\n",
    "    \"\"\"\n",
    "\n",
    "    # Tokenize the prompt\n",
    "    tokens = tokenizer.tokenize(prompt)\n",
    "\n",
    "    # Convert tokens to token IDs\n",
    "    token_ids = tokenizer.convert_tokens_to_ids(tokens)\n",
    "\n",
    "    return token_ids\n",
    "\n"
   ]
  },
  {
   "cell_type": "code",
   "execution_count": 9,
   "metadata": {},
   "outputs": [],
   "source": [
    "tokenizer = GPT2Tokenizer.from_pretrained(\"gpt2\")\n",
    "\n"
   ]
  },
  {
   "cell_type": "code",
   "execution_count": 19,
   "metadata": {},
   "outputs": [
    {
     "name": "stdout",
     "output_type": "stream",
     "text": [
      "1/1 [==============================] - 0s 11ms/step\n",
      "[[0.9766037  0.48669246 0.02950613]]\n"
     ]
    }
   ],
   "source": [
    "new_prompt = \"Create a cube: 97cm, 45cm, and 3cm.\"\n",
    "new_token_ids = tokenize_prompt(new_prompt, tokenizer)\n",
    "new_token_sequence = pad_sequences([new_token_ids], maxlen=26, padding='post')\n",
    "predicted_dimensions = model.predict(new_token_sequence)\n",
    "\n",
    "print(predicted_dimensions)\n"
   ]
  }
 ],
 "metadata": {
  "kernelspec": {
   "display_name": "Python 3",
   "language": "python",
   "name": "python3"
  },
  "language_info": {
   "codemirror_mode": {
    "name": "ipython",
    "version": 3
   },
   "file_extension": ".py",
   "mimetype": "text/x-python",
   "name": "python",
   "nbconvert_exporter": "python",
   "pygments_lexer": "ipython3",
   "version": "3.11.7"
  }
 },
 "nbformat": 4,
 "nbformat_minor": 2
}
